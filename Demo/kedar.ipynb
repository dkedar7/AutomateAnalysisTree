{
 "cells": [
  {
   "cell_type": "code",
   "execution_count": null,
   "metadata": {},
   "outputs": [],
   "source": [
    "import os\
",
    "import sys\
",
    "import subprocess"
   ]
 },
  {
   "cell_type": "code",
   "execution_count": null,
   "metadata": {},
   "outputs": [],
   "source": [
    "# Import required modules\
",
    "import numpy as np\
",
    "import pandas as pd\
",
    "import matplotlib.pyplot as plt\
",
    "import seaborn as sns"
   ]
 },
  {
   "cell_type": "code",
   "execution_count": null,
   "metadata": {},
   "outputs": [],
   "source": [
    "csv_files = (subprocess.check_output("find ../Data/  -name \*.csv",shell=True)\
",
    "            ).decode("utf-8").split("\
")\
",
    "excel_files = (subprocess.check_output("find ../Data/  -name \*.xlsx",shell=True)\
",
    "              ).decode("utf-8").split("\
")"
   ]
 },
  {
   "cell_type": "code",
   "execution_count": null,
   "metadata": {},
   "outputs": [],
   "source": [
    "# Load data\
",
    "try:\
",
    "    data = pd.read_csv(csv_files[0])\
",
    "except:\
",
    "    try:\
",
    "        data = pd.read_csv(excel_files[0])\
",
    "    except:\
",
    "        print ("No .csv or .xlsx files found.")"
   ]
 },
  {
   "cell_type": "code",
   "execution_count": null,
   "metadata": {},
   "outputs": [],
   "source": [
    "# View data\
",
    "data.head()"
   ]
 },
  {
   "cell_type": "code",
   "execution_count": null,
   "metadata": {},
   "outputs": [],
   "source": [
    "# Count data\
",
    "data.count()"
   ]
 },
  {
   "cell_type": "code",
   "execution_count": null,
   "metadata": {},
   "outputs": [],
   "source": [
    "# Describe data\
",
    "data.describe().transpose()"
   ]
 },
  {
   "cell_type": "markdown",
   "metadata": {},
   "source": [
    "### Quality checks"
   ]
 },
  {
   "cell_type": "code",
   "execution_count": null,
   "metadata": {},
   "outputs": [],
   "source": [
    "# Dtypes of data\
",
    "data.dtypes"
   ]
 },
  {
   "cell_type": "code",
   "execution_count": null,
   "metadata": {},
   "outputs": [],
   "source": [
    "# Print columns whose dtypes are neither float not int\
",
    "for column in data.columns:\
",
    "    if ((data[column].dtype != int) and (data[column].dtype != float)):\
",
    "        print (column)"
   ]
 },
  {
   "cell_type": "markdown",
   "metadata": {},
   "source": [
    "## Exploratory Analysis"
   ]
 },
  {
   "cell_type": "code",
   "execution_count": null,
   "metadata": {},
   "outputs": [],
   "source": []
 }
 ],
 "metadata": {
  "kernelspec": {
   "display_name": "Python 3",
   "language": "python",
   "name": "python3"
 },
  "language_info": {
   "codemirror_mode": {
    "name": "ipython",
    "version": 3
  },
   "file_extension": ".py",
   "mimetype": "text/x-python",
   "name": "python",
   "nbconvert_exporter": "python",
   "pygments_lexer": "ipython3",
   "version": "3.7.2"
 }
},
 "nbformat": 4,
 "nbformat_minor": 2
}