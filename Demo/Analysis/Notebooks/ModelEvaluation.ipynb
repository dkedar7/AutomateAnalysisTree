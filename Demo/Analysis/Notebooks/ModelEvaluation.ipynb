{
 "cells": [
  {
   "cell_type": "code",
   "execution_count": null,
   "metadata": {},
   "outputs": [],
   "source": [
    "import os\
",
    "import sys\
",
    "import time\
",
    "import subprocess"
   ]
 },
  {
   "cell_type": "code",
   "execution_count": null,
   "metadata": {},
   "outputs": [],
   "source": [
    "# Import required modules\
",
    "\
",
    "import numpy as np\
",
    "import pandas as pd\
",
    "from matplotlib import pyplot as plt\
",
    "import seaborn as sns\
",
    "from tqdm import tqdm\
",
    "\
",
    "from sklearn.externals import joblib\
",
    "from sklearn.preprocessing import StandardScaler\
",
    "from sklearn.preprocessing import MinMaxScaler\
",
    "\
",
    "from sklearn.metrics import accuracy_score,f1_score,precision_score,recall_score\
",
    "from sklearn.metrics import roc_auc_score,roc_curve,confusion_matrix\
",
    "from sklearn.metrics import r2_score,mean_absolute_error,mean_squared_error"
   ]
 },
  {
   "cell_type": "code",
   "execution_count": null,
   "metadata": {},
   "outputs": [],
   "source": [
    "# Import saved models\
",
    "model = joblib.load("../Models/SavedModels/")"
   ]
 },
  {
   "cell_type": "code",
   "execution_count": null,
   "metadata": {},
   "outputs": [],
   "source": [
    "pwd"
   ]
 }
 ],
 "metadata": {
  "kernelspec": {
   "display_name": "Python 3",
   "language": "python",
   "name": "python3"
 },
  "language_info": {
   "codemirror_mode": {
    "name": "ipython",
    "version": 3
  },
   "file_extension": ".py",
   "mimetype": "text/x-python",
   "name": "python",
   "nbconvert_exporter": "python",
   "pygments_lexer": "ipython3",
   "version": "3.7.2"
 }
},
 "nbformat": 4,
 "nbformat_minor": 2
}